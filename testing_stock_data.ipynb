{
 "metadata": {
  "language_info": {
   "codemirror_mode": {
    "name": "ipython",
    "version": 3
   },
   "file_extension": ".py",
   "mimetype": "text/x-python",
   "name": "python",
   "nbconvert_exporter": "python",
   "pygments_lexer": "ipython3",
   "version": "3.7.6-final"
  },
  "orig_nbformat": 2,
  "kernelspec": {
   "name": "python3",
   "display_name": "Python 3",
   "language": "python"
  }
 },
 "nbformat": 4,
 "nbformat_minor": 2,
 "cells": [
  {
   "cell_type": "code",
   "execution_count": null,
   "metadata": {},
   "outputs": [],
   "source": [
    "!pip install alpha-vantage\n",
    "!pip install python-dotenv\n",
    "from alpha_vantage.timeseries import TimeSeries\n",
    "# Import API key\n",
    "from dotenv import load_dotenv\n",
    "import os\n",
    "#adds variable from environments\n",
    "load_dotenv()\n",
    "\n",
    "def Predict_Stock_Prices():\n",
    "  # Get stock ticker input from user\n",
    "  ticker = input('Type the Stock Ticker Label You Would Like To View: ')\n",
    "  api_key =  os.environ.get(\"api_key\")\n",
    "  # Pull and update fields from Alpha Vantage\n",
    "  try:\n",
    "    ts = TimeSeries(key=api_key, output_format='pandas', indexing_type='integer')\n",
    "    data, meta_data = ts.get_daily_adjusted(symbol=ticker, outputsize='full')\n",
    "    data = data.drop(columns=['7. dividend amount','8. split coefficient'])\n",
    "    df = data.rename(columns={'index':'date','1. open':'open', '2. high':'high', '3. low':'low',\n",
    "    '4. close':'close','5. adjusted close':'adj close','6. volume':'volume'})\n",
    "    # Arrange dataframe in sequential index/date order\n",
    "    df = df[::-1]\n",
    "    df.reset_index(drop=True, inplace=True)\n",
    "    df.head()\n",
    "    df.insert(0,\"index\", df.index)\n",
    "    data_set = df\n",
    "    data_set.head()\n",
    "    from sklearn.preprocessing import MinMaxScaler\n",
    "    # Pull close data from dataframe and reshape\n",
    "    close_data_set = data_set[\"close\"].values.reshape(-1,1)\n",
    "    dataLength = len(close_data_set)\n",
    "    # Scale to normalize dataset\n",
    "    scaler = MinMaxScaler(feature_range=(0, 1))\n",
    "    scaled_data_set = scaler.fit_transform(close_data_set)\n",
    "    import math as m\n",
    "    # split into train and test sets sequentially for LSTM model\n",
    "    trainSize = m.ceil(int(dataLength * 0.8))\n",
    "    testSize = int(dataLength) - trainSize\n",
    "    train_data, test_data = scaled_data_set[0:trainSize,:], scaled_data_set[trainSize:dataLength,:]\n",
    "    import numpy as np\n",
    "    xTrain = []\n",
    "    yTrain = []\n",
    "    # Amount of prior days to take into account for each day's prediction\n",
    "    lookbackWindow = 365\n",
    "    # Loop through data and assign lookback data to \"prediction\" actual value\n",
    "    for i in range(lookbackWindow, trainSize):\n",
    "        xTrain.append(train_data[i-lookbackWindow:i, 0])\n",
    "        yTrain.append(train_data[i, 0])\n",
    "    # Reshape lists into arrays for input into LSTM model \n",
    "    xTrain, yTrain = np.array(xTrain), np.array(yTrain)\n",
    "    xTrain = np.reshape(xTrain, (xTrain.shape[0], xTrain.shape[1], 1))\n",
    "  except:\n",
    "    print(f\"Error trying to import {ticker}\")\n"
   ]
  },
  {
   "cell_type": "code",
   "execution_count": null,
   "metadata": {},
   "outputs": [],
   "source": [
    "Predict_Stock_Prices()"
   ]
  }
 ]
}